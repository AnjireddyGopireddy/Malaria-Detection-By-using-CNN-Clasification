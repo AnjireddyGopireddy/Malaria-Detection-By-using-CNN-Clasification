{
 "cells": [
  {
   "cell_type": "code",
   "execution_count": 1,
   "id": "5f37c470",
   "metadata": {},
   "outputs": [],
   "source": [
    "# import the libraries as shown below\n",
    "\n",
    "from tensorflow.keras.layers import Input, Lambda, Dense, Flatten,Conv2D\n",
    "from tensorflow.keras.models import Model\n",
    "from tensorflow.keras.applications.vgg19 import VGG19\n",
    "from tensorflow.keras.applications.resnet50 import preprocess_input\n",
    "from tensorflow.keras.preprocessing import image\n",
    "from tensorflow.keras.preprocessing.image import ImageDataGenerator,load_img\n",
    "from tensorflow.keras.models import Sequential\n",
    "import numpy as np\n",
    "from glob import glob\n",
    "import matplotlib.pyplot as plt"
   ]
  },
  {
   "cell_type": "code",
   "execution_count": 2,
   "id": "1103caad",
   "metadata": {},
   "outputs": [],
   "source": [
    "IMAGE_SIZE = [224, 224]\n",
    "\n",
    "train_path = 'D:\\\\Dataset\\\\Train'\n",
    "valid_path = 'D:\\\\Dataset\\\\Test'"
   ]
  },
  {
   "cell_type": "code",
   "execution_count": 3,
   "id": "62c383cc",
   "metadata": {},
   "outputs": [],
   "source": [
    "mobilnet = VGG19(input_shape=IMAGE_SIZE + [3], weights='imagenet', include_top=False)"
   ]
  },
  {
   "cell_type": "code",
   "execution_count": 4,
   "id": "208bb6ca",
   "metadata": {},
   "outputs": [],
   "source": [
    "for layer in mobilnet.layers:\n",
    "    layer.trainable = False"
   ]
  },
  {
   "cell_type": "code",
   "execution_count": 5,
   "id": "a615bb63",
   "metadata": {},
   "outputs": [],
   "source": [
    "folders = glob('D:\\\\Dataset\\\\Train\\*')"
   ]
  },
  {
   "cell_type": "code",
   "execution_count": 6,
   "id": "a6df1a83",
   "metadata": {},
   "outputs": [
    {
     "data": {
      "text/plain": [
       "['D:\\\\Dataset\\\\Train\\\\Parasite', 'D:\\\\Dataset\\\\Train\\\\Uninfected']"
      ]
     },
     "execution_count": 6,
     "metadata": {},
     "output_type": "execute_result"
    }
   ],
   "source": [
    "folders"
   ]
  },
  {
   "cell_type": "code",
   "execution_count": 7,
   "id": "20c76aa1",
   "metadata": {},
   "outputs": [],
   "source": [
    "# our layers - you can add more if you want\n",
    "x = Flatten()(mobilnet.output)"
   ]
  },
  {
   "cell_type": "code",
   "execution_count": 8,
   "id": "e9b0420a",
   "metadata": {},
   "outputs": [],
   "source": [
    "prediction = Dense(len(folders), activation='softmax')(x)\n",
    "\n",
    "# create a model object\n",
    "model = Model(inputs=mobilnet.input, outputs=prediction)"
   ]
  },
  {
   "cell_type": "code",
   "execution_count": 9,
   "id": "de586d38",
   "metadata": {},
   "outputs": [
    {
     "name": "stdout",
     "output_type": "stream",
     "text": [
      "Model: \"model\"\n",
      "_________________________________________________________________\n",
      " Layer (type)                Output Shape              Param #   \n",
      "=================================================================\n",
      " input_1 (InputLayer)        [(None, 224, 224, 3)]     0         \n",
      "                                                                 \n",
      " block1_conv1 (Conv2D)       (None, 224, 224, 64)      1792      \n",
      "                                                                 \n",
      " block1_conv2 (Conv2D)       (None, 224, 224, 64)      36928     \n",
      "                                                                 \n",
      " block1_pool (MaxPooling2D)  (None, 112, 112, 64)      0         \n",
      "                                                                 \n",
      " block2_conv1 (Conv2D)       (None, 112, 112, 128)     73856     \n",
      "                                                                 \n",
      " block2_conv2 (Conv2D)       (None, 112, 112, 128)     147584    \n",
      "                                                                 \n",
      " block2_pool (MaxPooling2D)  (None, 56, 56, 128)       0         \n",
      "                                                                 \n",
      " block3_conv1 (Conv2D)       (None, 56, 56, 256)       295168    \n",
      "                                                                 \n",
      " block3_conv2 (Conv2D)       (None, 56, 56, 256)       590080    \n",
      "                                                                 \n",
      " block3_conv3 (Conv2D)       (None, 56, 56, 256)       590080    \n",
      "                                                                 \n",
      " block3_conv4 (Conv2D)       (None, 56, 56, 256)       590080    \n",
      "                                                                 \n",
      " block3_pool (MaxPooling2D)  (None, 28, 28, 256)       0         \n",
      "                                                                 \n",
      " block4_conv1 (Conv2D)       (None, 28, 28, 512)       1180160   \n",
      "                                                                 \n",
      " block4_conv2 (Conv2D)       (None, 28, 28, 512)       2359808   \n",
      "                                                                 \n",
      " block4_conv3 (Conv2D)       (None, 28, 28, 512)       2359808   \n",
      "                                                                 \n",
      " block4_conv4 (Conv2D)       (None, 28, 28, 512)       2359808   \n",
      "                                                                 \n",
      " block4_pool (MaxPooling2D)  (None, 14, 14, 512)       0         \n",
      "                                                                 \n",
      " block5_conv1 (Conv2D)       (None, 14, 14, 512)       2359808   \n",
      "                                                                 \n",
      " block5_conv2 (Conv2D)       (None, 14, 14, 512)       2359808   \n",
      "                                                                 \n",
      " block5_conv3 (Conv2D)       (None, 14, 14, 512)       2359808   \n",
      "                                                                 \n",
      " block5_conv4 (Conv2D)       (None, 14, 14, 512)       2359808   \n",
      "                                                                 \n",
      " block5_pool (MaxPooling2D)  (None, 7, 7, 512)         0         \n",
      "                                                                 \n",
      " flatten (Flatten)           (None, 25088)             0         \n",
      "                                                                 \n",
      " dense (Dense)               (None, 2)                 50178     \n",
      "                                                                 \n",
      "=================================================================\n",
      "Total params: 20,074,562\n",
      "Trainable params: 50,178\n",
      "Non-trainable params: 20,024,384\n",
      "_________________________________________________________________\n"
     ]
    }
   ],
   "source": [
    "model.summary()"
   ]
  },
  {
   "cell_type": "code",
   "execution_count": 10,
   "id": "6ac94cef",
   "metadata": {},
   "outputs": [],
   "source": [
    "from tensorflow.keras.layers import MaxPooling2D"
   ]
  },
  {
   "cell_type": "code",
   "execution_count": 11,
   "id": "ea935cc5",
   "metadata": {},
   "outputs": [
    {
     "name": "stdout",
     "output_type": "stream",
     "text": [
      "Model: \"sequential\"\n",
      "_________________________________________________________________\n",
      " Layer (type)                Output Shape              Param #   \n",
      "=================================================================\n",
      " conv2d (Conv2D)             (None, 224, 224, 16)      208       \n",
      "                                                                 \n",
      " max_pooling2d (MaxPooling2D  (None, 112, 112, 16)     0         \n",
      " )                                                               \n",
      "                                                                 \n",
      " conv2d_1 (Conv2D)           (None, 112, 112, 32)      2080      \n",
      "                                                                 \n",
      " max_pooling2d_1 (MaxPooling  (None, 56, 56, 32)       0         \n",
      " 2D)                                                             \n",
      "                                                                 \n",
      " conv2d_2 (Conv2D)           (None, 56, 56, 64)        8256      \n",
      "                                                                 \n",
      " max_pooling2d_2 (MaxPooling  (None, 28, 28, 64)       0         \n",
      " 2D)                                                             \n",
      "                                                                 \n",
      " flatten_1 (Flatten)         (None, 50176)             0         \n",
      "                                                                 \n",
      " dense_1 (Dense)             (None, 500)               25088500  \n",
      "                                                                 \n",
      " dense_2 (Dense)             (None, 2)                 1002      \n",
      "                                                                 \n",
      "=================================================================\n",
      "Total params: 25,100,046\n",
      "Trainable params: 25,100,046\n",
      "Non-trainable params: 0\n",
      "_________________________________________________________________\n"
     ]
    }
   ],
   "source": [
    "### Create Model from scratch using CNN\n",
    "model=Sequential()\n",
    "model.add(Conv2D(filters=16,kernel_size=2,padding=\"same\",activation=\"relu\",input_shape=(224,224,3)))\n",
    "model.add(MaxPooling2D(pool_size=2))\n",
    "model.add(Conv2D(filters=32,kernel_size=2,padding=\"same\",activation =\"relu\"))\n",
    "model.add(MaxPooling2D(pool_size=2))\n",
    "model.add(Conv2D(filters=64,kernel_size=2,padding=\"same\",activation=\"relu\"))\n",
    "model.add(MaxPooling2D(pool_size=2))\n",
    "model.add(Flatten())\n",
    "model.add(Dense(500,activation=\"relu\"))\n",
    "model.add(Dense(2,activation=\"softmax\"))\n",
    "model.summary()"
   ]
  },
  {
   "cell_type": "code",
   "execution_count": 12,
   "id": "7746599f",
   "metadata": {},
   "outputs": [],
   "source": [
    "# tell the model what cost and optimization method to use\n",
    "model.compile(\n",
    "  loss='categorical_crossentropy',\n",
    "  optimizer='adam',\n",
    "  metrics=['accuracy']\n",
    ")"
   ]
  },
  {
   "cell_type": "code",
   "execution_count": 13,
   "id": "b63c6470",
   "metadata": {},
   "outputs": [],
   "source": [
    "# Use the Image Data Generator to import the images from the dataset\n",
    "from tensorflow.keras.preprocessing.image import ImageDataGenerator\n",
    "\n",
    "train_datagen = ImageDataGenerator(rescale = 1./255,\n",
    "                                   shear_range = 0.2,\n",
    "                                   zoom_range = 0.2,\n",
    "                                   horizontal_flip = True)\n",
    "\n",
    "test_datagen = ImageDataGenerator(rescale = 1./255)"
   ]
  },
  {
   "cell_type": "code",
   "execution_count": 14,
   "id": "aad4d2ab",
   "metadata": {},
   "outputs": [
    {
     "name": "stdout",
     "output_type": "stream",
     "text": [
      "Found 416 images belonging to 2 classes.\n"
     ]
    }
   ],
   "source": [
    "# Make sure you provide the same target size as initialied for the image size\n",
    "training_set = train_datagen.flow_from_directory('D:\\\\Dataset\\\\Train',\n",
    "                                                 target_size = (224, 224),\n",
    "                                                 batch_size = 32,\n",
    "                                                 class_mode = 'categorical')"
   ]
  },
  {
   "cell_type": "code",
   "execution_count": 15,
   "id": "abea8d6f",
   "metadata": {},
   "outputs": [
    {
     "name": "stdout",
     "output_type": "stream",
     "text": [
      "Found 134 images belonging to 2 classes.\n"
     ]
    }
   ],
   "source": [
    "test_set = test_datagen.flow_from_directory('D:\\\\Dataset\\\\Test',\n",
    "                                            target_size = (224, 224),\n",
    "                                            batch_size = 32,\n",
    "                                            class_mode = 'categorical')"
   ]
  },
  {
   "cell_type": "code",
   "execution_count": 16,
   "id": "0f6987c6",
   "metadata": {},
   "outputs": [
    {
     "name": "stderr",
     "output_type": "stream",
     "text": [
      "C:\\Users\\ADMIN\\AppData\\Local\\Temp\\ipykernel_7704\\2724883676.py:3: UserWarning: `Model.fit_generator` is deprecated and will be removed in a future version. Please use `Model.fit`, which supports generators.\n",
      "  r = model.fit_generator(\n"
     ]
    },
    {
     "name": "stdout",
     "output_type": "stream",
     "text": [
      "Epoch 1/10\n",
      "13/13 [==============================] - 37s 3s/step - loss: 1.4870 - accuracy: 0.5216 - val_loss: 0.8131 - val_accuracy: 0.3209\n",
      "Epoch 2/10\n",
      "13/13 [==============================] - 24s 2s/step - loss: 0.6909 - accuracy: 0.5000 - val_loss: 0.6918 - val_accuracy: 0.6343\n",
      "Epoch 3/10\n",
      "13/13 [==============================] - 26s 2s/step - loss: 0.6248 - accuracy: 0.6611 - val_loss: 0.7364 - val_accuracy: 0.4851\n",
      "Epoch 4/10\n",
      "13/13 [==============================] - 30s 2s/step - loss: 0.5272 - accuracy: 0.7212 - val_loss: 1.1456 - val_accuracy: 0.3134\n",
      "Epoch 5/10\n",
      "13/13 [==============================] - 29s 2s/step - loss: 0.4729 - accuracy: 0.7596 - val_loss: 1.0079 - val_accuracy: 0.2910\n",
      "Epoch 6/10\n",
      "13/13 [==============================] - 28s 2s/step - loss: 0.4319 - accuracy: 0.7788 - val_loss: 1.2330 - val_accuracy: 0.3358\n",
      "Epoch 7/10\n",
      "13/13 [==============================] - 27s 2s/step - loss: 0.5120 - accuracy: 0.7308 - val_loss: 0.9108 - val_accuracy: 0.3731\n",
      "Epoch 8/10\n",
      "13/13 [==============================] - 30s 2s/step - loss: 0.4242 - accuracy: 0.8197 - val_loss: 0.9306 - val_accuracy: 0.3134\n",
      "Epoch 9/10\n",
      "13/13 [==============================] - 30s 2s/step - loss: 0.4405 - accuracy: 0.7885 - val_loss: 0.9548 - val_accuracy: 0.5149\n",
      "Epoch 10/10\n",
      "13/13 [==============================] - 30s 2s/step - loss: 0.4252 - accuracy: 0.8077 - val_loss: 0.8711 - val_accuracy: 0.4403\n"
     ]
    }
   ],
   "source": [
    "# fit the model\n",
    "# Run the cell. It will take some time to execute\n",
    "r = model.fit_generator(\n",
    "  training_set,\n",
    "  validation_data=test_set,\n",
    "  epochs=10,\n",
    "  steps_per_epoch=len(training_set),\n",
    "  validation_steps=len(test_set)\n",
    ")"
   ]
  },
  {
   "cell_type": "code",
   "execution_count": 17,
   "id": "27a81338",
   "metadata": {},
   "outputs": [
    {
     "data": {
      "image/png": "[encoded data removed]",
      "text/plain": [
       "<Figure size 640x480 with 1 Axes>"
      ]
     },
     "metadata": {},
     "output_type": "display_data"
    },
    {
     "data": {
      "image/png": "[encoded data removed]",
      "text/plain": [
       "<Figure size 640x480 with 1 Axes>"
      ]
     },
     "metadata": {},
     "output_type": "display_data"
    },
    {
     "data": {
      "text/plain": [
       "<Figure size 640x480 with 0 Axes>"
      ]
     },
     "metadata": {},
     "output_type": "display_data"
    }
   ],
   "source": [
    "# plot the loss\n",
    "plt.plot(r.history['loss'], label='train loss')\n",
    "plt.plot(r.history['val_loss'], label='val loss')\n",
    "plt.legend()\n",
    "plt.show()\n",
    "plt.savefig('LossVal_loss')\n",
    "\n",
    "# plot the accuracy\n",
    "plt.plot(r.history['accuracy'], label='train acc')\n",
    "plt.plot(r.history['val_accuracy'], label='val acc')\n",
    "plt.legend()\n",
    "plt.show()\n",
    "plt.savefig('AccVal_acc')"
   ]
  },
  {
   "cell_type": "code",
   "execution_count": 18,
   "id": "0ee658b8",
   "metadata": {},
   "outputs": [],
   "source": [
    "# save it as a h5 file\n",
    "\n",
    "\n",
    "from tensorflow.keras.models import load_model\n",
    "\n",
    "model.save('model_vgg19.h5')"
   ]
  },
  {
   "cell_type": "code",
   "execution_count": 19,
   "id": "91092b47",
   "metadata": {},
   "outputs": [
    {
     "name": "stdout",
     "output_type": "stream",
     "text": [
      "5/5 [==============================] - 2s 294ms/step\n"
     ]
    }
   ],
   "source": [
    "y_pred = model.predict(test_set)"
   ]
  },
  {
   "cell_type": "code",
   "execution_count": 20,
   "id": "e8c1c096",
   "metadata": {},
   "outputs": [
    {
     "data": {
      "text/plain": [
       "array([[0.86323565, 0.13676439],\n",
       "       [0.82109046, 0.17890958],\n",
       "       [0.98509824, 0.01490176],\n",
       "       [0.6833597 , 0.31664026],\n",
       "       [0.78750396, 0.21249603],\n",
       "       [0.46586168, 0.5341383 ],\n",
       "       [0.70800614, 0.2919939 ],\n",
       "       [0.3960452 , 0.6039548 ],\n",
       "       [0.65273917, 0.3472609 ],\n",
       "       [0.68348676, 0.3165132 ],\n",
       "       [0.41213477, 0.58786523],\n",
       "       [0.6322367 , 0.3677633 ],\n",
       "       [0.7395067 , 0.2604933 ],\n",
       "       [0.7608132 , 0.23918682],\n",
       "       [0.6962232 , 0.30377683],\n",
       "       [0.6493524 , 0.35064763],\n",
       "       [0.8588617 , 0.14113829],\n",
       "       [0.560326  , 0.43967396],\n",
       "       [0.44797945, 0.55202055],\n",
       "       [0.78694785, 0.21305221],\n",
       "       [0.44097507, 0.5590249 ],\n",
       "       [0.86046857, 0.13953143],\n",
       "       [0.44628552, 0.55371445],\n",
       "       [0.3317286 , 0.66827136],\n",
       "       [0.34530467, 0.6546954 ],\n",
       "       [0.8232146 , 0.17678533],\n",
       "       [0.805334  , 0.19466612],\n",
       "       [0.75380176, 0.24619827],\n",
       "       [0.5782613 , 0.42173868],\n",
       "       [0.5718704 , 0.42812964],\n",
       "       [0.34274834, 0.65725166],\n",
       "       [0.58016706, 0.41983297],\n",
       "       [0.9246599 , 0.07534011],\n",
       "       [0.89002967, 0.10997031],\n",
       "       [0.86776584, 0.13223417],\n",
       "       [0.25195   , 0.7480501 ],\n",
       "       [0.8563966 , 0.14360338],\n",
       "       [0.75962925, 0.24037075],\n",
       "       [0.63715965, 0.36284038],\n",
       "       [0.5235762 , 0.47642383],\n",
       "       [0.28226638, 0.7177336 ],\n",
       "       [0.4770799 , 0.52292   ],\n",
       "       [0.3371868 , 0.66281325],\n",
       "       [0.83910084, 0.16089915],\n",
       "       [0.76229465, 0.2377054 ],\n",
       "       [0.6648496 , 0.33515045],\n",
       "       [0.25242555, 0.7475744 ],\n",
       "       [0.7884647 , 0.21153529],\n",
       "       [0.34704563, 0.6529544 ],\n",
       "       [0.8920501 , 0.10794993],\n",
       "       [0.38011208, 0.61988795],\n",
       "       [0.45161197, 0.54838806],\n",
       "       [0.7735532 , 0.22644679],\n",
       "       [0.57457906, 0.42542103],\n",
       "       [0.58237094, 0.41762912],\n",
       "       [0.6096998 , 0.39030024],\n",
       "       [0.5055778 , 0.4944221 ],\n",
       "       [0.870925  , 0.12907493],\n",
       "       [0.67539185, 0.32460815],\n",
       "       [0.54281396, 0.457186  ],\n",
       "       [0.29449052, 0.7055095 ],\n",
       "       [0.51819974, 0.48180023],\n",
       "       [0.5041714 , 0.4958286 ],\n",
       "       [0.8265731 , 0.17342693],\n",
       "       [0.59679985, 0.40320015],\n",
       "       [0.9215144 , 0.07848562],\n",
       "       [0.8085537 , 0.1914463 ],\n",
       "       [0.2925957 , 0.7074043 ],\n",
       "       [0.7521425 , 0.24785753],\n",
       "       [0.7470068 , 0.25299323],\n",
       "       [0.752299  , 0.24770093],\n",
       "       [0.815251  , 0.18474902],\n",
       "       [0.81824213, 0.18175784],\n",
       "       [0.80936295, 0.19063708],\n",
       "       [0.38920283, 0.61079717],\n",
       "       [0.67641383, 0.3235861 ],\n",
       "       [0.55549204, 0.44450796],\n",
       "       [0.369201  , 0.63079906],\n",
       "       [0.4993772 , 0.50062275],\n",
       "       [0.4344393 , 0.5655607 ],\n",
       "       [0.38058278, 0.6194172 ],\n",
       "       [0.3922607 , 0.60773927],\n",
       "       [0.28087142, 0.7191286 ],\n",
       "       [0.8575044 , 0.14249563],\n",
       "       [0.716221  , 0.283779  ],\n",
       "       [0.3576945 , 0.64230543],\n",
       "       [0.94438326, 0.05561674],\n",
       "       [0.8761233 , 0.12387671],\n",
       "       [0.8802933 , 0.11970674],\n",
       "       [0.36855352, 0.63144654],\n",
       "       [0.33753783, 0.66246223],\n",
       "       [0.77833533, 0.22166468],\n",
       "       [0.7575895 , 0.24241042],\n",
       "       [0.8755725 , 0.1244275 ],\n",
       "       [0.91280246, 0.08719756],\n",
       "       [0.7531482 , 0.24685186],\n",
       "       [0.6446774 , 0.35532266],\n",
       "       [0.6718919 , 0.32810804],\n",
       "       [0.8087297 , 0.19127028],\n",
       "       [0.52153474, 0.4784653 ],\n",
       "       [0.60232705, 0.39767295],\n",
       "       [0.4533334 , 0.5466666 ],\n",
       "       [0.921996  , 0.07800406],\n",
       "       [0.70783526, 0.29216477],\n",
       "       [0.84169763, 0.1583023 ],\n",
       "       [0.8138855 , 0.1861145 ],\n",
       "       [0.8677773 , 0.13222268],\n",
       "       [0.7732243 , 0.22677569],\n",
       "       [0.43855116, 0.5614488 ],\n",
       "       [0.780559  , 0.21944103],\n",
       "       [0.9434553 , 0.05654475],\n",
       "       [0.8493437 , 0.15065628],\n",
       "       [0.63693196, 0.363068  ],\n",
       "       [0.8125262 , 0.18747374],\n",
       "       [0.58710295, 0.41289705],\n",
       "       [0.5884354 , 0.4115646 ],\n",
       "       [0.26572052, 0.7342795 ],\n",
       "       [0.83473754, 0.1652625 ],\n",
       "       [0.34854493, 0.65145504],\n",
       "       [0.22541237, 0.77458763],\n",
       "       [0.55241686, 0.44758317],\n",
       "       [0.69757664, 0.3024234 ],\n",
       "       [0.8959664 , 0.10403366],\n",
       "       [0.61083525, 0.3891647 ],\n",
       "       [0.3194233 , 0.68057674],\n",
       "       [0.77804697, 0.22195302],\n",
       "       [0.5981137 , 0.4018863 ],\n",
       "       [0.72257286, 0.27742708],\n",
       "       [0.7776524 , 0.22234763],\n",
       "       [0.85750043, 0.14249949],\n",
       "       [0.45270884, 0.5472911 ],\n",
       "       [0.5374506 , 0.4625494 ],\n",
       "       [0.88758475, 0.11241527],\n",
       "       [0.64647174, 0.3535283 ]], dtype=float32)"
      ]
     },
     "execution_count": 20,
     "metadata": {},
     "output_type": "execute_result"
    }
   ],
   "source": [
    "y_pred"
   ]
  },
  {
   "cell_type": "code",
   "execution_count": 21,
   "id": "8ebb515c",
   "metadata": {},
   "outputs": [],
   "source": [
    "import numpy as np\n",
    "y_pred = np.argmax(y_pred, axis=1)"
   ]
  },
  {
   "cell_type": "code",
   "execution_count": 22,
   "id": "da549726",
   "metadata": {},
   "outputs": [
    {
     "data": {
      "text/plain": [
       "array([0, 0, 0, 0, 0, 1, 0, 1, 0, 0, 1, 0, 0, 0, 0, 0, 0, 0, 1, 0, 1, 0,\n",
       "       1, 1, 1, 0, 0, 0, 0, 0, 1, 0, 0, 0, 0, 1, 0, 0, 0, 0, 1, 1, 1, 0,\n",
       "       0, 0, 1, 0, 1, 0, 1, 1, 0, 0, 0, 0, 0, 0, 0, 0, 1, 0, 0, 0, 0, 0,\n",
       "       0, 1, 0, 0, 0, 0, 0, 0, 1, 0, 0, 1, 1, 1, 1, 1, 1, 0, 0, 1, 0, 0,\n",
       "       0, 1, 1, 0, 0, 0, 0, 0, 0, 0, 0, 0, 0, 1, 0, 0, 0, 0, 0, 0, 1, 0,\n",
       "       0, 0, 0, 0, 0, 0, 1, 0, 1, 1, 0, 0, 0, 0, 1, 0, 0, 0, 0, 0, 1, 0,\n",
       "       0, 0], dtype=int64)"
      ]
     },
     "execution_count": 22,
     "metadata": {},
     "output_type": "execute_result"
    }
   ],
   "source": [
    "y_pred"
   ]
  },
  {
   "cell_type": "code",
   "execution_count": 23,
   "id": "16572883",
   "metadata": {},
   "outputs": [],
   "source": [
    "from tensorflow.keras.models import load_model\n",
    "from tensorflow.keras.preprocessing import image"
   ]
  },
  {
   "cell_type": "code",
   "execution_count": 24,
   "id": "6dd63b76",
   "metadata": {},
   "outputs": [],
   "source": [
    "model=load_model('model_vgg19.h5')"
   ]
  },
  {
   "cell_type": "code",
   "execution_count": 25,
   "id": "865ccead",
   "metadata": {},
   "outputs": [],
   "source": [
    "img=image.load_img('D:\\\\Dataset\\\\Test/Uninfected/2.png',target_size=(224,224))"
   ]
  },
  {
   "cell_type": "code",
   "execution_count": 26,
   "id": "f7f45792",
   "metadata": {},
   "outputs": [
    {
     "data": {
      "text/plain": [
       "array([[[0., 0., 0.],\n",
       "        [0., 0., 0.],\n",
       "        [0., 0., 0.],\n",
       "        ...,\n",
       "        [0., 0., 0.],\n",
       "        [0., 0., 0.],\n",
       "        [0., 0., 0.]],\n",
       "\n",
       "       [[0., 0., 0.],\n",
       "        [0., 0., 0.],\n",
       "        [0., 0., 0.],\n",
       "        ...,\n",
       "        [0., 0., 0.],\n",
       "        [0., 0., 0.],\n",
       "        [0., 0., 0.]],\n",
       "\n",
       "       [[0., 0., 0.],\n",
       "        [0., 0., 0.],\n",
       "        [0., 0., 0.],\n",
       "        ...,\n",
       "        [0., 0., 0.],\n",
       "        [0., 0., 0.],\n",
       "        [0., 0., 0.]],\n",
       "\n",
       "       ...,\n",
       "\n",
       "       [[0., 0., 0.],\n",
       "        [0., 0., 0.],\n",
       "        [0., 0., 0.],\n",
       "        ...,\n",
       "        [0., 0., 0.],\n",
       "        [0., 0., 0.],\n",
       "        [0., 0., 0.]],\n",
       "\n",
       "       [[0., 0., 0.],\n",
       "        [0., 0., 0.],\n",
       "        [0., 0., 0.],\n",
       "        ...,\n",
       "        [0., 0., 0.],\n",
       "        [0., 0., 0.],\n",
       "        [0., 0., 0.]],\n",
       "\n",
       "       [[0., 0., 0.],\n",
       "        [0., 0., 0.],\n",
       "        [0., 0., 0.],\n",
       "        ...,\n",
       "        [0., 0., 0.],\n",
       "        [0., 0., 0.],\n",
       "        [0., 0., 0.]]], dtype=float32)"
      ]
     },
     "execution_count": 26,
     "metadata": {},
     "output_type": "execute_result"
    }
   ],
   "source": [
    "x=image.img_to_array(img)\n",
    "x"
   ]
  },
  {
   "cell_type": "code",
   "execution_count": 27,
   "id": "a522f000",
   "metadata": {},
   "outputs": [
    {
     "data": {
      "text/plain": [
       "(224, 224, 3)"
      ]
     },
     "execution_count": 27,
     "metadata": {},
     "output_type": "execute_result"
    }
   ],
   "source": [
    "x.shape"
   ]
  },
  {
   "cell_type": "code",
   "execution_count": 28,
   "id": "1faf8fa7",
   "metadata": {},
   "outputs": [],
   "source": [
    "x=x/255"
   ]
  },
  {
   "cell_type": "code",
   "execution_count": 29,
   "id": "6dbfb423",
   "metadata": {},
   "outputs": [
    {
     "data": {
      "text/plain": [
       "(1, 224, 224, 3)"
      ]
     },
     "execution_count": 29,
     "metadata": {},
     "output_type": "execute_result"
    }
   ],
   "source": [
    "x=np.expand_dims(x,axis=0)\n",
    "img_data=preprocess_input(x)\n",
    "img_data.shape"
   ]
  },
  {
   "cell_type": "code",
   "execution_count": 30,
   "id": "ede8a7da",
   "metadata": {},
   "outputs": [
    {
     "name": "stdout",
     "output_type": "stream",
     "text": [
      "1/1 [==============================] - 0s 377ms/step\n"
     ]
    },
    {
     "data": {
      "text/plain": [
       "array([[1., 0.]], dtype=float32)"
      ]
     },
     "execution_count": 30,
     "metadata": {},
     "output_type": "execute_result"
    }
   ],
   "source": [
    "model.predict(img_data)"
   ]
  },
  {
   "cell_type": "code",
   "execution_count": 31,
   "id": "91d3095a",
   "metadata": {},
   "outputs": [
    {
     "name": "stdout",
     "output_type": "stream",
     "text": [
      "1/1 [==============================] - 0s 108ms/step\n"
     ]
    }
   ],
   "source": [
    "a=np.argmax(model.predict(img_data), axis=1)"
   ]
  },
  {
   "cell_type": "code",
   "execution_count": 38,
   "id": "180e6539",
   "metadata": {},
   "outputs": [
    {
     "name": "stdout",
     "output_type": "stream",
     "text": [
      "Uninfected\n"
     ]
    }
   ],
   "source": [
    "if(a!=1):\n",
    "    print(\"Uninfected\")\n",
    "else:\n",
    "    print(\"Infected\")"
   ]
  },
  {
   "cell_type": "code",
   "execution_count": null,
   "id": "4f13566c",
   "metadata": {},
   "outputs": [],
   "source": []
  }
 ],
 "metadata": {
  "kernelspec": {
   "display_name": "Python 3 (ipykernel)",
   "language": "python",
   "name": "python3"
  },
  "language_info": {
   "codemirror_mode": {
    "name": "ipython",
    "version": 3
   },
   "file_extension": ".py",
   "mimetype": "text/x-python",
   "name": "python",
   "nbconvert_exporter": "python",
   "pygments_lexer": "ipython3",
   "version": "3.10.9"
  }
 },
 "nbformat": 4,
 "nbformat_minor": 5
}
